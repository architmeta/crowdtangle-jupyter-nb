{
 "cells": [
  {
   "cell_type": "code",
   "execution_count": 2,
   "id": "1bc8c529-972d-4709-af79-5ca95bfe76bd",
   "metadata": {},
   "outputs": [],
   "source": [
    "import pandas as pd\n",
    "from collections import Counter\n",
    "import matplotlib.pyplot as plt"
   ]
  },
  {
   "cell_type": "code",
   "execution_count": 3,
   "id": "6dfdf1af-7952-40f0-81fb-be173b2dba4f",
   "metadata": {},
   "outputs": [
    {
     "name": "stderr",
     "output_type": "stream",
     "text": [
      "[nltk_data] Downloading package stopwords to\n",
      "[nltk_data]     /Users/surfboard/nltk_data...\n",
      "[nltk_data]   Package stopwords is already up-to-date!\n"
     ]
    }
   ],
   "source": [
    "import nltk\n",
    "nltk.download('stopwords')\n",
    "from nltk.corpus import stopwords\n",
    "stop_words = set(stopwords.words('english'))"
   ]
  },
  {
   "cell_type": "code",
   "execution_count": 4,
   "id": "9f649f49-7e41-4084-a44f-54cb61d24b66",
   "metadata": {
    "scrolled": true
   },
   "outputs": [
    {
     "name": "stdout",
     "output_type": "stream",
     "text": [
      "<class 'pandas.core.frame.DataFrame'>\n",
      "RangeIndex: 10000 entries, 0 to 9999\n",
      "Data columns (total 12 columns):\n",
      " #   Column                          Non-Null Count  Dtype \n",
      "---  ------                          --------------  ----- \n",
      " 0   Page Name                       10000 non-null  object\n",
      " 1   Page Category                   10000 non-null  object\n",
      " 2   Post Created                    10000 non-null  object\n",
      " 3   Type                            10000 non-null  object\n",
      " 4   Total Interactions              10000 non-null  object\n",
      " 5   Likes                           10000 non-null  int64 \n",
      " 6   Comments                        10000 non-null  int64 \n",
      " 7   Shares                          10000 non-null  int64 \n",
      " 8   Total Views                     10000 non-null  int64 \n",
      " 9   Total Views For All Crossposts  10000 non-null  int64 \n",
      " 10  URL                             10000 non-null  object\n",
      " 11  Message                         9781 non-null   object\n",
      "dtypes: int64(5), object(7)\n",
      "memory usage: 937.6+ KB\n"
     ]
    }
   ],
   "source": [
    "df = pd.read_csv(\"gaza-us-cleaned.csv\")\n",
    "df.info()"
   ]
  },
  {
   "cell_type": "code",
   "execution_count": 20,
   "id": "9280e18c-5b96-42ee-ac9b-b4a5766ef402",
   "metadata": {},
   "outputs": [
    {
     "name": "stdout",
     "output_type": "stream",
     "text": [
      "The keyword 'died' appears 106 times in the 'Message' column.\n",
      "The breakdown by page is:\n",
      "Page Name\n",
      "ABC News                       15\n",
      "AJ+                            12\n",
      "USA TODAY                       8\n",
      "CNN                             7\n",
      "NowThis                         7\n",
      "Reuters                         7\n",
      "NowThis Impact                  7\n",
      "CBS News                        5\n",
      "The New York Times              5\n",
      "AP                              3\n",
      "The Hill                        3\n",
      "CNN International               3\n",
      "Jerusalem Dateline              2\n",
      "POLITICO                        2\n",
      "CGTN America                    2\n",
      "Breitbart                       2\n",
      "The Daily Moth                  1\n",
      "MeidasTouch                     1\n",
      "Denver Westword                 1\n",
      "The Israel Guys                 1\n",
      "Fox News                        1\n",
      "People                          1\n",
      "Mondoweiss                      1\n",
      "Tangle                          1\n",
      "U.S. Senator Bernie Sanders     1\n",
      "PandaPaws                       1\n",
      "Jewish Breaking News            1\n",
      "Democratic Socialism Now        1\n",
      "Elise Stefanik                  1\n",
      "Nydia Han                       1\n",
      "The Hard Times                  1\n",
      "CNN Politics                    1\n",
      "Name: count, dtype: int64\n",
      "\n",
      "Top 5 most shared posts that mention the keyword:\n",
      "     Page Name                                                URL  Shares\n",
      "369   ABC News  https://www.facebook.com/100059306690876/posts...     381\n",
      "2687       AJ+  https://www.facebook.com/100064529598989/posts...     327\n",
      "1581  ABC News  https://www.facebook.com/100059306690876/posts...     278\n",
      "2947       AJ+  https://www.facebook.com/100064529598989/posts...     258\n",
      "3166       AJ+  https://www.facebook.com/100064529598989/posts...     242\n"
     ]
    }
   ],
   "source": [
    "\n",
    "# Convert object-type columns to string, except integer columns\n",
    "for col in df.columns:\n",
    "    if df[col].dtype == 'object':\n",
    "        df[col] = df[col].astype(str)\n",
    "\n",
    "# Define the keyword to search for\n",
    "keyword = \"died\"\n",
    "\n",
    "# Count the occurrences of the keyword in the \"Message\" column\n",
    "keyword_counts = df[df['Message'].str.contains(keyword, case=False)]['Page Name'].value_counts()\n",
    "\n",
    "# Print the keyword occurrences\n",
    "print(f\"The keyword '{keyword}' appears {keyword_counts.sum()} times in the 'Message' column.\")\n",
    "print(f\"The breakdown by page is:\\n{keyword_counts}\")\n",
    "\n",
    "# Get the top 5 most shared posts that mention the keyword\n",
    "top_shared_posts = (\n",
    "    df[df['Message'].str.contains(keyword, case=False)]\n",
    "    .sort_values(by='Shares', ascending=False)\n",
    "    .head(5)\n",
    "    [['Page Name', 'URL', 'Shares']]\n",
    ")\n",
    "\n",
    "print(\"\\nTop 5 most shared posts that mention the keyword:\")\n",
    "print(top_shared_posts)"
   ]
  },
  {
   "cell_type": "code",
   "execution_count": 14,
   "id": "be3aed3d-9576-4efb-8a36-223a85d87b44",
   "metadata": {},
   "outputs": [
    {
     "name": "stdout",
     "output_type": "stream",
     "text": [
      "The keyword 'IDF' appears 356 times in the 'Message' column.\n",
      "The keyword 'Hamas' appears 3104 times in the 'Message' column.\n",
      "The breakdown by page is:\n",
      "IDF occurrences:\n",
      "Page Name\n",
      "ABC News                               73\n",
      "TBN24                                  70\n",
      "Breitbart                              20\n",
      "CNN                                    18\n",
      "CNN International                      14\n",
      "The Israel Guys                        14\n",
      "Fox News                               13\n",
      "Jerusalem Dateline                     13\n",
      "War Headlines                          11\n",
      "Mondoweiss                             10\n",
      "Sean Hannity                            8\n",
      "NEWSMAX                                 8\n",
      "Jewish Breaking News                    8\n",
      "ABC News Live                           5\n",
      "Reuters                                 5\n",
      "CBS News                                4\n",
      "Ben Shapiro                             4\n",
      "Judge Andrew Napolitano                 4\n",
      "Democracy Now!                          4\n",
      "MSNBC                                   3\n",
      "Ilhan Omar                              3\n",
      "The Western Journal                     3\n",
      "CGTN America                            3\n",
      "VOA Swahili                             3\n",
      "The Hill                                3\n",
      "POLITICO                                3\n",
      "Centerpoint on TBN                      2\n",
      "Sid Miller                              2\n",
      "Daily Wire                              2\n",
      "Vox                                     1\n",
      "Ben Swann                               1\n",
      "New York Post                           1\n",
      "LaRouche Organization                   1\n",
      "The National Desk - TND                 1\n",
      "Resistance Chicks                       1\n",
      "TheBlaze                                1\n",
      "The Love Life Of An Asian Guy           1\n",
      "TruNews                                 1\n",
      "CNN en Español                          1\n",
      "Indisputable with Dr. Rashad Richey     1\n",
      "Agenda-Free TV                          1\n",
      "Insider                                 1\n",
      "The New York Times                      1\n",
      "ĐKN Thời Sự                             1\n",
      "1776 Nation                             1\n",
      "USA TODAY                               1\n",
      "NowThis                                 1\n",
      "Conservative Tribune by WJ              1\n",
      "Winsome Earle-Sears                     1\n",
      "Untold News                             1\n",
      "Michael Knowles                         1\n",
      "AIPAC                                   1\n",
      "Name: count, dtype: int64\n",
      "Hamas occurrences:\n",
      "Page Name\n",
      "Reuters               484\n",
      "ABC News              333\n",
      "The New York Times    204\n",
      "NEWSMAX               143\n",
      "CNN                   141\n",
      "                     ... \n",
      "Daily Mail US           1\n",
      "Salon                   1\n",
      "Nydia Han               1\n",
      "Tangle                  1\n",
      "Bloomberg               1\n",
      "Name: count, Length: 208, dtype: int64\n"
     ]
    },
    {
     "data": {
      "image/png": "[encoded data removed]",
      "text/plain": [
       "<Figure size 800x800 with 1 Axes>"
      ]
     },
     "metadata": {},
     "output_type": "display_data"
    }
   ],
   "source": [
    "# Define the keywords to search for\n",
    "keyword1 = \"IDF\"\n",
    "keyword2 = \"Hamas\"\n",
    "\n",
    "# Count the occurrences of the keywords in the \"Message\" column\n",
    "keyword1_counts = df[df['Message'].str.contains(keyword1, case=False)]['Page Name'].value_counts()\n",
    "keyword2_counts = df[df['Message'].str.contains(keyword2, case=False)]['Page Name'].value_counts()\n",
    "\n",
    "# Print the keyword occurrences\n",
    "print(f\"The keyword '{keyword1}' appears {keyword1_counts.sum()} times in the 'Message' column.\")\n",
    "print(f\"The keyword '{keyword2}' appears {keyword2_counts.sum()} times in the 'Message' column.\")\n",
    "print(f\"The breakdown by page is:\")\n",
    "print(f\"{keyword1} occurrences:\\n{keyword1_counts}\")\n",
    "print(f\"{keyword2} occurrences:\\n{keyword2_counts}\")\n",
    "\n",
    "# Plot the keyword occurrences as a pie chart\n",
    "labels = [keyword1, keyword2]\n",
    "sizes = [keyword1_counts.sum(), keyword2_counts.sum()]\n",
    "\n",
    "plt.figure(figsize=(8, 8))\n",
    "plt.pie(sizes, labels=labels, autopct='%1.1f%%')\n",
    "plt.title('Keyword Occurrences')\n",
    "plt.axis('equal')  # Equal aspect ratio ensures that pie is circular.\n",
    "plt.show()"
   ]
  },
  {
   "cell_type": "code",
   "execution_count": null,
   "id": "a4d42e91-97b0-4d26-a382-e60c2450c0a3",
   "metadata": {},
   "outputs": [],
   "source": []
  }
 ],
 "metadata": {
  "kernelspec": {
   "display_name": "Python 3 (ipykernel)",
   "language": "python",
   "name": "python3"
  },
  "language_info": {
   "codemirror_mode": {
    "name": "ipython",
    "version": 3
   },
   "file_extension": ".py",
   "mimetype": "text/x-python",
   "name": "python",
   "nbconvert_exporter": "python",
   "pygments_lexer": "ipython3",
   "version": "3.11.8"
  },
  "widgets": {
   "application/vnd.jupyter.widget-state+json": {
    "state": {},
    "version_major": 2,
    "version_minor": 0
   }
  }
 },
 "nbformat": 4,
 "nbformat_minor": 5
}
