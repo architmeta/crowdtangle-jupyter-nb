{
 "cells": [
  {
   "cell_type": "code",
   "execution_count": 4,
   "id": "1bc8c529-972d-4709-af79-5ca95bfe76bd",
   "metadata": {},
   "outputs": [],
   "source": [
    "import pandas as pd\n",
    "import matplotlib.pyplot as plt"
   ]
  },
  {
   "cell_type": "code",
   "execution_count": 5,
   "id": "9f649f49-7e41-4084-a44f-54cb61d24b66",
   "metadata": {
    "scrolled": true
   },
   "outputs": [
    {
     "name": "stdout",
     "output_type": "stream",
     "text": [
      "<class 'pandas.core.frame.DataFrame'>\n",
      "RangeIndex: 7877 entries, 0 to 7876\n",
      "Data columns (total 17 columns):\n",
      " #   Column              Non-Null Count  Dtype \n",
      "---  ------              --------------  ----- \n",
      " 0   Page Name           7877 non-null   object\n",
      " 1   Page Category       7877 non-null   object\n",
      " 2   Page Created        7877 non-null   object\n",
      " 3   Type                7877 non-null   object\n",
      " 4   Total Interactions  7877 non-null   object\n",
      " 5   Likes               7877 non-null   int64 \n",
      " 6   Comments            7877 non-null   int64 \n",
      " 7   Shares              7877 non-null   int64 \n",
      " 8   Love                7877 non-null   int64 \n",
      " 9   Wow                 7877 non-null   int64 \n",
      " 10  Haha                7877 non-null   int64 \n",
      " 11  Sad                 7877 non-null   int64 \n",
      " 12  Angry               7877 non-null   int64 \n",
      " 13  Care                7877 non-null   int64 \n",
      " 14  Total Views         7877 non-null   int64 \n",
      " 15  URL                 7877 non-null   object\n",
      " 16  Message             7561 non-null   object\n",
      "dtypes: int64(10), object(7)\n",
      "memory usage: 1.0+ MB\n"
     ]
    }
   ],
   "source": [
    "df = pd.read_csv(\"delhi-riots-cleaned.csv\")\n",
    "df.info()"
   ]
  },
  {
   "cell_type": "code",
   "execution_count": 13,
   "id": "9280e18c-5b96-42ee-ac9b-b4a5766ef402",
   "metadata": {},
   "outputs": [
    {
     "name": "stdout",
     "output_type": "stream",
     "text": [
      "The keyword 'anti-Hindu' appears 228 times in the 'Message' column.\n",
      "The breakdown by page is:\n",
      "Page Name\n",
      "OpIndia.com         179\n",
      "Organiser Weekly     44\n",
      "ऑपइंडिया              2\n",
      "TheWire.in            2\n",
      "PU Mirror             1\n",
      "Name: count, dtype: int64\n",
      "\n",
      "Top 5 most shared posts that mention the keyword:\n",
      "       Page Name                                                URL  Shares\n",
      "44   OpIndia.com  https://www.facebook.com/1562929943918762/post...    4078\n",
      "94      ऑपइंडिया  https://www.facebook.com/801251990227313/posts...    2725\n",
      "324  OpIndia.com  https://www.facebook.com/1562929943918762/post...    1849\n",
      "205  OpIndia.com  https://www.facebook.com/1562929943918762/post...    1706\n",
      "298  OpIndia.com  https://www.facebook.com/1562929943918762/post...    1689\n"
     ]
    }
   ],
   "source": [
    "\n",
    "# Convert object-type columns to string, except integer columns\n",
    "for col in df.columns:\n",
    "    if df[col].dtype == 'object':\n",
    "        df[col] = df[col].astype(str)\n",
    "\n",
    "# Define the keyword to search for\n",
    "keyword = \"anti-Hindu\"\n",
    "\n",
    "# Count the occurrences of the keyword in the \"Message\" column\n",
    "keyword_counts = df[df['Message'].str.contains(keyword, case=False)]['Page Name'].value_counts()\n",
    "\n",
    "# Print the keyword occurrences\n",
    "print(f\"The keyword '{keyword}' appears {keyword_counts.sum()} times in the 'Message' column.\")\n",
    "print(f\"The breakdown by page is:\\n{keyword_counts}\")\n",
    "\n",
    "# Get the top 5 most shared posts that mention the keyword\n",
    "top_shared_posts = (\n",
    "    df[df['Message'].str.contains(keyword, case=False)]\n",
    "    .sort_values(by='Shares', ascending=False)\n",
    "    .head(5)\n",
    "    [['Page Name', 'URL', 'Shares']]\n",
    ")\n",
    "\n",
    "print(\"\\nTop 5 most shared posts that mention the keyword:\")\n",
    "print(top_shared_posts)"
   ]
  },
  {
   "cell_type": "code",
   "execution_count": null,
   "id": "be3aed3d-9576-4efb-8a36-223a85d87b44",
   "metadata": {},
   "outputs": [],
   "source": []
  }
 ],
 "metadata": {
  "kernelspec": {
   "display_name": "Python 3 (ipykernel)",
   "language": "python",
   "name": "python3"
  },
  "language_info": {
   "codemirror_mode": {
    "name": "ipython",
    "version": 3
   },
   "file_extension": ".py",
   "mimetype": "text/x-python",
   "name": "python",
   "nbconvert_exporter": "python",
   "pygments_lexer": "ipython3",
   "version": "3.11.8"
  },
  "widgets": {
   "application/vnd.jupyter.widget-state+json": {
    "state": {},
    "version_major": 2,
    "version_minor": 0
   }
  }
 },
 "nbformat": 4,
 "nbformat_minor": 5
}
