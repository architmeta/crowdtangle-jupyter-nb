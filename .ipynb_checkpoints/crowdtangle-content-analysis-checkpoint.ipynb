{
 "cells": [
  {
   "cell_type": "code",
   "execution_count": 20,
   "id": "1bc8c529-972d-4709-af79-5ca95bfe76bd",
   "metadata": {},
   "outputs": [],
   "source": [
    "import pandas as pd\n",
    "import matplotlib.pyplot as plt"
   ]
  },
  {
   "cell_type": "code",
   "execution_count": 28,
   "id": "9f649f49-7e41-4084-a44f-54cb61d24b66",
   "metadata": {
    "scrolled": true
   },
   "outputs": [
    {
     "name": "stdout",
     "output_type": "stream",
     "text": [
      "<class 'pandas.core.frame.DataFrame'>\n",
      "RangeIndex: 10000 entries, 0 to 9999\n",
      "Data columns (total 12 columns):\n",
      " #   Column                          Non-Null Count  Dtype \n",
      "---  ------                          --------------  ----- \n",
      " 0   Page Name                       10000 non-null  object\n",
      " 1   Page Category                   10000 non-null  object\n",
      " 2   Post Created                    10000 non-null  object\n",
      " 3   Type                            10000 non-null  object\n",
      " 4   Total Interactions              10000 non-null  object\n",
      " 5   Likes                           10000 non-null  int64 \n",
      " 6   Comments                        10000 non-null  int64 \n",
      " 7   Shares                          10000 non-null  int64 \n",
      " 8   Total Views                     10000 non-null  int64 \n",
      " 9   Total Views For All Crossposts  10000 non-null  int64 \n",
      " 10  URL                             10000 non-null  object\n",
      " 11  Message                         9781 non-null   object\n",
      "dtypes: int64(5), object(7)\n",
      "memory usage: 937.6+ KB\n"
     ]
    }
   ],
   "source": [
    "df = pd.read_csv(\"cleaned-gaza-us.csv\")\n",
    "df.info()"
   ]
  },
  {
   "cell_type": "code",
   "execution_count": 29,
   "id": "9280e18c-5b96-42ee-ac9b-b4a5766ef402",
   "metadata": {},
   "outputs": [
    {
     "name": "stdout",
     "output_type": "stream",
     "text": [
      "The keyword 'genocide' appears 382 times in the 'Message' column.\n",
      "The breakdown by page is:\n",
      "Page Name\n",
      "AJ+                                                        129\n",
      "Democracy Now!                                              44\n",
      "Palestinian Youth Movement (PYM)- حركة الشباب الفلسطيني     25\n",
      "Reuters                                                     21\n",
      "The Hill                                                    14\n",
      "                                                          ... \n",
      "New York Post                                                1\n",
      "Sean Hannity                                                 1\n",
      "The Daily Signal                                             1\n",
      "Blaze Media                                                  1\n",
      "Party for Socialism and Liberation - PSL                     1\n",
      "Name: count, Length: 61, dtype: int64\n",
      "\n",
      "Top 5 most shared posts that mention the keyword:\n",
      "            Page Name                                                URL  \\\n",
      "36         Mondoweiss  https://www.facebook.com/100064062786653/posts...   \n",
      "32  BreakThrough News  https://www.facebook.com/100063750150699/posts...   \n",
      "35         Mondoweiss  https://www.facebook.com/100064062786653/posts...   \n",
      "34                AJ+  https://www.facebook.com/100064529598989/posts...   \n",
      "79         Mondoweiss  https://www.facebook.com/100064062786653/posts...   \n",
      "\n",
      "    Shares  \n",
      "36    8121  \n",
      "32    8004  \n",
      "35    6005  \n",
      "34    5916  \n",
      "79    4448  \n"
     ]
    }
   ],
   "source": [
    "\n",
    "# Convert object-type columns to string, except integer columns\n",
    "for col in df.columns:\n",
    "    if df[col].dtype == 'object':\n",
    "        df[col] = df[col].astype(str)\n",
    "\n",
    "# Define the keyword to search for\n",
    "keyword = \"genocide\"\n",
    "\n",
    "# Count the occurrences of the keyword in the \"Message\" column\n",
    "keyword_counts = df[df['Message'].str.contains(keyword, case=False)]['Page Name'].value_counts()\n",
    "\n",
    "# Print the keyword occurrences\n",
    "print(f\"The keyword '{keyword}' appears {keyword_counts.sum()} times in the 'Message' column.\")\n",
    "print(f\"The breakdown by page is:\\n{keyword_counts}\")\n",
    "\n",
    "# Get the top 5 most shared posts that mention the keyword\n",
    "top_shared_posts = (\n",
    "    df[df['Message'].str.contains(keyword, case=False)]\n",
    "    .sort_values(by='Shares', ascending=False)\n",
    "    .head(5)\n",
    "    [['Page Name', 'URL', 'Shares']]\n",
    ")\n",
    "\n",
    "print(\"\\nTop 5 most shared posts that mention the keyword:\")\n",
    "print(top_shared_posts)"
   ]
  },
  {
   "cell_type": "code",
   "execution_count": 27,
   "id": "be3aed3d-9576-4efb-8a36-223a85d87b44",
   "metadata": {},
   "outputs": [
    {
     "name": "stdout",
     "output_type": "stream",
     "text": [
      "The keyword 'anti-hindu' appears 338 times in the 'Message' column.\n",
      "The keyword 'anti-muslim' appears 46 times in the 'Message' column.\n",
      "The breakdown by page is:\n",
      "anti-hindu occurrences:\n",
      "Page Name\n",
      "OpIndia.com                                                     239\n",
      "Organiser Weekly                                                 27\n",
      "Documenting Crimes Against Hindus                                 7\n",
      "India Speaks Daily                                                6\n",
      "Hindutva Abhiyan                                                  5\n",
      "Hindus of India                                                   4\n",
      "Hinduism Now Global Press                                         4\n",
      "Resurging Hinduism                                                3\n",
      "tfipost.com                                                       2\n",
      "Delta Edge Artificial Intelligence                                2\n",
      "TheWire.in                                                        2\n",
      "Indian Right Wing Community                                       2\n",
      "MyNation                                                          2\n",
      "ऑपइंडिया                                                          2\n",
      "The Tatva                                                         1\n",
      "Vishwa Samvad Kendra Bharat                                       1\n",
      "Proud Indian                                                      1\n",
      "Hindus of Himachal                                                1\n",
      "Communist Party of India -Marxist Leninist- Liberation CPIML      1\n",
      "Ungli Baba                                                        1\n",
      "Brahmanical Patriarchy                                            1\n",
      "Eternal Hindu - शाश्वत हिंदू                                      1\n",
      "ArtKrafter                                                        1\n",
      "The Gorkha Press                                                  1\n",
      "I Trust Narendra                                                  1\n",
      "Bar & Bench                                                       1\n",
      "Kashmiri Pundit                                                   1\n",
      "Awakening                                                         1\n",
      "A Sanatani                                                        1\n",
      "Pure Pahadi                                                       1\n",
      "Republic                                                          1\n",
      "Shaykh Zia Ul Gaffar Page                                         1\n",
      "Youth Awakening Mission                                           1\n",
      "The Hindu Renaissance                                             1\n",
      "PMO India : Report Card                                           1\n",
      "The Quint                                                         1\n",
      "Kangana Ranaut                                                    1\n",
      "Vishva Hindu Parishad -VHP                                        1\n",
      "Francois Gautier                                                  1\n",
      "Justice For Hindus                                                1\n",
      "The Nationalist                                                   1\n",
      "India With MODI                                                   1\n",
      "Citizen Of INDIA                                                  1\n",
      "Ajeet Bharti                                                      1\n",
      "Ram Prasad Paul                                                   1\n",
      "Name: count, dtype: int64\n",
      "anti-muslim occurrences:\n",
      "Page Name\n",
      "Newslaundry                                                     3\n",
      "MuslimMirror.com                                                3\n",
      "The Tatva                                                       3\n",
      "Beef Janata Party                                               3\n",
      "Dr. Arindam Chaudhuri                                           2\n",
      "The Milli Gazette                                               2\n",
      "Outlookindia                                                    2\n",
      "HYDERABAD DECCAN                                                2\n",
      "Congress Sandesh                                                2\n",
      "OpIndia.com                                                     2\n",
      "Communist Party of India -Marxist Leninist- Liberation CPIML    1\n",
      "The Companion                                                   1\n",
      "Tp Asharafali                                                   1\n",
      "TIMES NOW                                                       1\n",
      "AISA - All India Students' Association                          1\n",
      "BeyondHeadlines                                                 1\n",
      "The-Pulse                                                       1\n",
      "University Community                                            1\n",
      "GoNews India                                                    1\n",
      "Communist Party of India (Marxist)                              1\n",
      "Thejas News                                                     1\n",
      "The Logical Indian Citizen                                      1\n",
      "India UnPlugged                                                 1\n",
      "Zafarul-Islam Khan                                              1\n",
      "India Speaks Daily                                              1\n",
      "Teesta Setalvad                                                 1\n",
      "Jamaat-e-Islami Hind                                            1\n",
      "Islam - The Way of Life                                         1\n",
      "Hinduism Now Global Press                                       1\n",
      "Thol.Thirumavalavan                                             1\n",
      "The Times of India                                              1\n",
      "Maktoob                                                         1\n",
      "Name: count, dtype: int64\n"
     ]
    },
    {
     "data": {
      "image/png": "[encoded data removed]",
      "text/plain": [
       "<Figure size 500x500 with 1 Axes>"
      ]
     },
     "metadata": {},
     "output_type": "display_data"
    }
   ],
   "source": [
    "# Define the keywords to search for\n",
    "keyword1 = \"anti-hindu\"\n",
    "keyword2 = \"anti-muslim\"\n",
    "\n",
    "# Count the occurrences of the keywords in the \"Message\" column\n",
    "keyword1_counts = df[df['Message'].str.contains(keyword1, case=False)]['Page Name'].value_counts()\n",
    "keyword2_counts = df[df['Message'].str.contains(keyword2, case=False)]['Page Name'].value_counts()\n",
    "\n",
    "# Print the keyword occurrences\n",
    "print(f\"The keyword '{keyword1}' appears {keyword1_counts.sum()} times in the 'Message' column.\")\n",
    "print(f\"The keyword '{keyword2}' appears {keyword2_counts.sum()} times in the 'Message' column.\")\n",
    "print(f\"The breakdown by page is:\")\n",
    "print(f\"{keyword1} occurrences:\\n{keyword1_counts}\")\n",
    "print(f\"{keyword2} occurrences:\\n{keyword2_counts}\")\n",
    "\n",
    "# Plot the keyword occurrences as a pie chart\n",
    "labels = [keyword1, keyword2]\n",
    "sizes = [keyword1_counts.sum(), keyword2_counts.sum()]\n",
    "\n",
    "plt.figure(figsize=(5, 5))\n",
    "plt.pie(sizes, labels=labels, autopct='%1.1f%%')\n",
    "plt.title('Keyword Occurrences')\n",
    "plt.axis('equal')  # Equal aspect ratio ensures that pie is circular.\n",
    "plt.show()"
   ]
  },
  {
   "cell_type": "code",
   "execution_count": null,
   "id": "a4d42e91-97b0-4d26-a382-e60c2450c0a3",
   "metadata": {},
   "outputs": [],
   "source": []
  },
  {
   "cell_type": "code",
   "execution_count": null,
   "id": "b6c9b85a-6e52-4855-a62c-9413ed4f89f6",
   "metadata": {},
   "outputs": [],
   "source": []
  },
  {
   "cell_type": "code",
   "execution_count": null,
   "id": "ca1f2781-9aab-4a86-aec2-45879f9ff16d",
   "metadata": {},
   "outputs": [],
   "source": []
  }
 ],
 "metadata": {
  "kernelspec": {
   "display_name": "Python 3 (ipykernel)",
   "language": "python",
   "name": "python3"
  },
  "language_info": {
   "codemirror_mode": {
    "name": "ipython",
    "version": 3
   },
   "file_extension": ".py",
   "mimetype": "text/x-python",
   "name": "python",
   "nbconvert_exporter": "python",
   "pygments_lexer": "ipython3",
   "version": "3.11.8"
  },
  "widgets": {
   "application/vnd.jupyter.widget-state+json": {
    "state": {},
    "version_major": 2,
    "version_minor": 0
   }
  }
 },
 "nbformat": 4,
 "nbformat_minor": 5
}
