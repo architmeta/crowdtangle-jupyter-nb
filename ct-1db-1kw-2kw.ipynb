{
 "cells": [
  {
   "cell_type": "code",
   "execution_count": 1,
   "id": "1bc8c529-972d-4709-af79-5ca95bfe76bd",
   "metadata": {},
   "outputs": [],
   "source": [
    "import pandas as pd\n",
    "import matplotlib.pyplot as plt"
   ]
  },
  {
   "cell_type": "code",
   "execution_count": 4,
   "id": "9f649f49-7e41-4084-a44f-54cb61d24b66",
   "metadata": {
    "scrolled": true
   },
   "outputs": [
    {
     "name": "stdout",
     "output_type": "stream",
     "text": [
      "<class 'pandas.core.frame.DataFrame'>\n",
      "RangeIndex: 10000 entries, 0 to 9999\n",
      "Data columns (total 41 columns):\n",
      " #   Column                                                                                                            Non-Null Count  Dtype  \n",
      "---  ------                                                                                                            --------------  -----  \n",
      " 0   Page Name                                                                                                         10000 non-null  object \n",
      " 1   User Name                                                                                                         9618 non-null   object \n",
      " 2   Facebook Id                                                                                                       10000 non-null  int64  \n",
      " 3   Page Category                                                                                                     10000 non-null  object \n",
      " 4   Page Admin Top Country                                                                                            10000 non-null  object \n",
      " 5   Page Description                                                                                                  9964 non-null   object \n",
      " 6   Page Created                                                                                                      10000 non-null  object \n",
      " 7   Likes at Posting                                                                                                  9919 non-null   float64\n",
      " 8   Followers at Posting                                                                                              9919 non-null   float64\n",
      " 9   Post Created                                                                                                      10000 non-null  object \n",
      " 10  Post Created Date                                                                                                 10000 non-null  object \n",
      " 11  Post Created Time                                                                                                 10000 non-null  object \n",
      " 12  Type                                                                                                              10000 non-null  object \n",
      " 13  Total Interactions                                                                                                10000 non-null  object \n",
      " 14  Likes                                                                                                             10000 non-null  int64  \n",
      " 15  Comments                                                                                                          10000 non-null  int64  \n",
      " 16  Shares                                                                                                            10000 non-null  int64  \n",
      " 17  Love                                                                                                              10000 non-null  int64  \n",
      " 18  Wow                                                                                                               10000 non-null  int64  \n",
      " 19  Haha                                                                                                              10000 non-null  int64  \n",
      " 20  Sad                                                                                                               10000 non-null  int64  \n",
      " 21  Angry                                                                                                             10000 non-null  int64  \n",
      " 22  Care                                                                                                              10000 non-null  int64  \n",
      " 23  Video Share Status                                                                                                1315 non-null   object \n",
      " 24  Is Video Owner?                                                                                                   10000 non-null  object \n",
      " 25  Post Views                                                                                                        10000 non-null  int64  \n",
      " 26  Total Views                                                                                                       10000 non-null  int64  \n",
      " 27  Total Views For All Crossposts                                                                                    10000 non-null  int64  \n",
      " 28  Video Length                                                                                                      1315 non-null   object \n",
      " 29  URL                                                                                                               10000 non-null  object \n",
      " 30  Message                                                                                                           9510 non-null   object \n",
      " 31  Link                                                                                                              9387 non-null   object \n",
      " 32  Final Link                                                                                                        2747 non-null   object \n",
      " 33  Image Text                                                                                                        688 non-null    object \n",
      " 34  Link Text                                                                                                         6543 non-null   object \n",
      " 35  Description                                                                                                       4610 non-null   object \n",
      " 36  Sponsor Id                                                                                                        2 non-null      float64\n",
      " 37  Sponsor Name                                                                                                      2 non-null      object \n",
      " 38  Sponsor Category                                                                                                  2 non-null      object \n",
      " 39  Total Interactions (weighted  —  Likes 1x Shares 1x Comments 1x Love 1x Wow 1x Haha 1x Sad 1x Angry 1x Care 1x )  10000 non-null  object \n",
      " 40  Overperforming Score                                                                                              10000 non-null  float64\n",
      "dtypes: float64(4), int64(13), object(24)\n",
      "memory usage: 3.1+ MB\n"
     ]
    }
   ],
   "source": [
    "df = pd.read_csv(\"elections-us.csv\")\n",
    "df.info()"
   ]
  },
  {
   "cell_type": "code",
   "execution_count": 5,
   "id": "dfb6e279-5eb4-49af-bb4d-f17121bc9e05",
   "metadata": {},
   "outputs": [],
   "source": [
    "# Convert object-type columns to string, except integer columns\n",
    "for col in df.columns:\n",
    "    if df[col].dtype == 'object':\n",
    "        df[col] = df[col].astype(str)"
   ]
  },
  {
   "cell_type": "code",
   "execution_count": 6,
   "id": "9280e18c-5b96-42ee-ac9b-b4a5766ef402",
   "metadata": {},
   "outputs": [
    {
     "name": "stdout",
     "output_type": "stream",
     "text": [
      "The keyword 'Trump' appears 1500 times in the 'Message' column.\n",
      "The breakdown by page is:\n",
      "Page Name\n",
      "Informed Citizens United                 42\n",
      "The Hill                                 41\n",
      "The Western Journal                      40\n",
      "Voz Media                                34\n",
      "Right Side Broadcasting                  31\n",
      "                                         ..\n",
      "Brenna Bird for Attorney General          1\n",
      "Joe Walsh                                 1\n",
      "The Love Life Of An Asian Guy             1\n",
      "Rocks and Cows of Minnesota               1\n",
      "Harris County Democratic Party - HCDP     1\n",
      "Name: count, Length: 497, dtype: int64\n",
      "\n",
      "Top 5 most shared posts that mention the keyword:\n",
      "           Page Name                                                URL  \\\n",
      "22  Occupy Democrats  https://www.facebook.com/100066647494924/posts...   \n",
      "1   Occupy Democrats  https://www.facebook.com/100066647494924/posts...   \n",
      "4           Fox News  https://www.facebook.com/100059396147148/posts...   \n",
      "18  Occupy Democrats  https://www.facebook.com/100066647494924/posts...   \n",
      "6   Occupy Democrats  https://www.facebook.com/100066647494924/posts...   \n",
      "\n",
      "    Shares  \n",
      "22    4427  \n",
      "1     4041  \n",
      "4     2436  \n",
      "18    2330  \n",
      "6     1854  \n"
     ]
    }
   ],
   "source": [
    "# Define the keyword to search for\n",
    "keyword = \"Trump\"\n",
    "\n",
    "# Count the occurrences of the keyword in the \"Message\" column\n",
    "keyword_counts = df[df['Message'].str.contains(keyword, case=False)]['Page Name'].value_counts()\n",
    "\n",
    "# Print the keyword occurrences\n",
    "print(f\"The keyword '{keyword}' appears {keyword_counts.sum()} times in the 'Message' column.\")\n",
    "print(f\"The breakdown by page is:\\n{keyword_counts}\")\n",
    "\n",
    "# Get the top 5 most shared posts that mention the keyword\n",
    "top_shared_posts = (\n",
    "    df[df['Message'].str.contains(keyword, case=False)]\n",
    "    .sort_values(by='Shares', ascending=False)\n",
    "    .head(5)\n",
    "    [['Page Name', 'URL', 'Shares']]\n",
    ")\n",
    "\n",
    "print(\"\\nTop 5 most shared posts that mention the keyword:\")\n",
    "print(top_shared_posts)"
   ]
  },
  {
   "cell_type": "code",
   "execution_count": 7,
   "id": "be3aed3d-9576-4efb-8a36-223a85d87b44",
   "metadata": {},
   "outputs": [
    {
     "name": "stdout",
     "output_type": "stream",
     "text": [
      "The keyword 'Trump' appears 1500 times in the 'Message' column.\n",
      "The keyword 'Biden' appears 1002 times in the 'Message' column.\n",
      "The breakdown by page is:\n",
      "Trump occurrences:\n",
      "Page Name\n",
      "Informed Citizens United                 42\n",
      "The Hill                                 41\n",
      "The Western Journal                      40\n",
      "Voz Media                                34\n",
      "Right Side Broadcasting                  31\n",
      "                                         ..\n",
      "Brenna Bird for Attorney General          1\n",
      "Joe Walsh                                 1\n",
      "The Love Life Of An Asian Guy             1\n",
      "Rocks and Cows of Minnesota               1\n",
      "Harris County Democratic Party - HCDP     1\n",
      "Name: count, Length: 497, dtype: int64\n",
      "Biden occurrences:\n",
      "Page Name\n",
      "The Western Journal                      47\n",
      "Informed Citizens United                 31\n",
      "Laguna Beach Democratic Club             30\n",
      "The Hill                                 29\n",
      "Voz Media                                29\n",
      "                                         ..\n",
      "Rank the Vote                             1\n",
      "Tallahassee Democrat                      1\n",
      "Anthony Brian Logan - ABL                 1\n",
      "Marlin Stutzman                           1\n",
      "Harris County Democratic Party - HCDP     1\n",
      "Name: count, Length: 370, dtype: int64\n"
     ]
    },
    {
     "data": {
      "image/png": "[encoded data removed]",
      "text/plain": [
       "<Figure size 500x500 with 1 Axes>"
      ]
     },
     "metadata": {},
     "output_type": "display_data"
    }
   ],
   "source": [
    "# Define the keywords to search for\n",
    "keyword1 = \"Trump\"\n",
    "keyword2 = \"Biden\"\n",
    "\n",
    "# Count the occurrences of the keywords in the \"Message\" column\n",
    "keyword1_counts = df[df['Message'].str.contains(keyword1, case=False)]['Page Name'].value_counts()\n",
    "keyword2_counts = df[df['Message'].str.contains(keyword2, case=False)]['Page Name'].value_counts()\n",
    "\n",
    "# Print the keyword occurrences\n",
    "print(f\"The keyword '{keyword1}' appears {keyword1_counts.sum()} times in the 'Message' column.\")\n",
    "print(f\"The keyword '{keyword2}' appears {keyword2_counts.sum()} times in the 'Message' column.\")\n",
    "print(f\"The breakdown by page is:\")\n",
    "print(f\"{keyword1} occurrences:\\n{keyword1_counts}\")\n",
    "print(f\"{keyword2} occurrences:\\n{keyword2_counts}\")\n",
    "\n",
    "# Plot the keyword occurrences as a pie chart\n",
    "labels = [keyword1, keyword2]\n",
    "sizes = [keyword1_counts.sum(), keyword2_counts.sum()]\n",
    "\n",
    "plt.figure(figsize=(5, 5))\n",
    "plt.pie(sizes, labels=labels, autopct='%1.1f%%')\n",
    "plt.title('Keyword Occurrences')\n",
    "plt.axis('equal')  # Equal aspect ratio ensures that pie is circular.\n",
    "plt.show()"
   ]
  },
  {
   "cell_type": "code",
   "execution_count": null,
   "id": "8d55b8ee-6019-40e4-8fbb-c36a1923634b",
   "metadata": {},
   "outputs": [],
   "source": []
  }
 ],
 "metadata": {
  "kernelspec": {
   "display_name": "Python 3 (ipykernel)",
   "language": "python",
   "name": "python3"
  },
  "language_info": {
   "codemirror_mode": {
    "name": "ipython",
    "version": 3
   },
   "file_extension": ".py",
   "mimetype": "text/x-python",
   "name": "python",
   "nbconvert_exporter": "python",
   "pygments_lexer": "ipython3",
   "version": "3.11.8"
  },
  "widgets": {
   "application/vnd.jupyter.widget-state+json": {
    "state": {},
    "version_major": 2,
    "version_minor": 0
   }
  }
 },
 "nbformat": 4,
 "nbformat_minor": 5
}
