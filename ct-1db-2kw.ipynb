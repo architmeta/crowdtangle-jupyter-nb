{
 "cells": [
  {
   "cell_type": "code",
   "execution_count": 34,
   "id": "72a7dea1-698c-48fc-8081-834ed3c3e2a3",
   "metadata": {},
   "outputs": [],
   "source": [
    "import pandas as pd\n",
    "import matplotlib.pyplot as plt"
   ]
  },
  {
   "cell_type": "code",
   "execution_count": 35,
   "id": "ca21dcd9-2806-4429-b222-2bc09e1fcde7",
   "metadata": {},
   "outputs": [
    {
     "name": "stdout",
     "output_type": "stream",
     "text": [
      "<class 'pandas.core.frame.DataFrame'>\n",
      "RangeIndex: 10000 entries, 0 to 9999\n",
      "Data columns (total 41 columns):\n",
      " #   Column                                                                                                            Non-Null Count  Dtype  \n",
      "---  ------                                                                                                            --------------  -----  \n",
      " 0   Page Name                                                                                                         10000 non-null  object \n",
      " 1   User Name                                                                                                         9912 non-null   object \n",
      " 2   Facebook Id                                                                                                       10000 non-null  int64  \n",
      " 3   Page Category                                                                                                     10000 non-null  object \n",
      " 4   Page Admin Top Country                                                                                            9945 non-null   object \n",
      " 5   Page Description                                                                                                  9998 non-null   object \n",
      " 6   Page Created                                                                                                      10000 non-null  object \n",
      " 7   Likes at Posting                                                                                                  9325 non-null   float64\n",
      " 8   Followers at Posting                                                                                              9325 non-null   float64\n",
      " 9   Post Created                                                                                                      10000 non-null  object \n",
      " 10  Post Created Date                                                                                                 10000 non-null  object \n",
      " 11  Post Created Time                                                                                                 10000 non-null  object \n",
      " 12  Type                                                                                                              10000 non-null  object \n",
      " 13  Total Interactions                                                                                                10000 non-null  object \n",
      " 14  Likes                                                                                                             10000 non-null  int64  \n",
      " 15  Comments                                                                                                          10000 non-null  int64  \n",
      " 16  Shares                                                                                                            10000 non-null  int64  \n",
      " 17  Love                                                                                                              10000 non-null  int64  \n",
      " 18  Wow                                                                                                               10000 non-null  int64  \n",
      " 19  Haha                                                                                                              10000 non-null  int64  \n",
      " 20  Sad                                                                                                               10000 non-null  int64  \n",
      " 21  Angry                                                                                                             10000 non-null  int64  \n",
      " 22  Care                                                                                                              10000 non-null  int64  \n",
      " 23  Video Share Status                                                                                                2003 non-null   object \n",
      " 24  Is Video Owner?                                                                                                   10000 non-null  object \n",
      " 25  Post Views                                                                                                        10000 non-null  int64  \n",
      " 26  Total Views                                                                                                       10000 non-null  int64  \n",
      " 27  Total Views For All Crossposts                                                                                    10000 non-null  int64  \n",
      " 28  Video Length                                                                                                      2003 non-null   object \n",
      " 29  URL                                                                                                               10000 non-null  object \n",
      " 30  Message                                                                                                           9506 non-null   object \n",
      " 31  Link                                                                                                              9784 non-null   object \n",
      " 32  Final Link                                                                                                        853 non-null    object \n",
      " 33  Image Text                                                                                                        14 non-null     object \n",
      " 34  Link Text                                                                                                         8689 non-null   object \n",
      " 35  Description                                                                                                       6651 non-null   object \n",
      " 36  Sponsor Id                                                                                                        0 non-null      float64\n",
      " 37  Sponsor Name                                                                                                      0 non-null      float64\n",
      " 38  Sponsor Category                                                                                                  0 non-null      float64\n",
      " 39  Total Interactions (weighted  —  Likes 1x Shares 1x Comments 1x Love 1x Wow 1x Haha 1x Sad 1x Angry 1x Care 1x )  10000 non-null  object \n",
      " 40  Overperforming Score                                                                                              10000 non-null  object \n",
      "dtypes: float64(5), int64(13), object(23)\n",
      "memory usage: 3.1+ MB\n"
     ]
    }
   ],
   "source": [
    "# The CVS files were downloaded from CrowdTangle. The file lists Facebook posts in last 12 months (from July 2024).\n",
    "# Page Categories include: Media News Company, Newsagent Newsstand, News Personality, News Site, Newspaper, \n",
    "# Political Candidate, Political Party, Politician, Political Organisation \n",
    "# CSV name cleaned-XYZ are suitable for this database. This CSV keeps only the coloumns needed for research. \n",
    "\n",
    "df = pd.read_csv(\"delhi-riots-large.csv\")\n",
    "df.info()"
   ]
  },
  {
   "cell_type": "code",
   "execution_count": 36,
   "id": "75c9a951-9d57-4927-b5db-3fc4a3c69cac",
   "metadata": {},
   "outputs": [],
   "source": [
    "# Convert object-type columns to string, except integer columns\n",
    "for col in df.columns:\n",
    "    if df[col].dtype == 'object':\n",
    "        df[col] = df[col].astype(str)"
   ]
  },
  {
   "cell_type": "code",
   "execution_count": 37,
   "id": "d484836a-05fb-4d8b-b29b-c8a7c4599d1e",
   "metadata": {},
   "outputs": [],
   "source": [
    "# Define the keywords to search for\n",
    "keyword1 = \"anti-Hindu\"\n",
    "keyword2 = \"anti-Muslim\""
   ]
  },
  {
   "cell_type": "code",
   "execution_count": 38,
   "id": "a8ceeb73-cfff-40c4-90b5-47034f7745c6",
   "metadata": {},
   "outputs": [],
   "source": [
    "# Count the occurrences of the keywords in the \"Message\" column\n",
    "keyword1_counts = df[df['Message'].str.contains(keyword1, case=False)]['Page Name'].value_counts()\n",
    "keyword2_counts = df[df['Message'].str.contains(keyword2, case=False)]['Page Name'].value_counts()"
   ]
  },
  {
   "cell_type": "code",
   "execution_count": 39,
   "id": "a51d0b07-ab6a-444a-a72d-cbfb83304182",
   "metadata": {},
   "outputs": [
    {
     "name": "stdout",
     "output_type": "stream",
     "text": [
      "The keyword 'anti-Hindu' appears 338 times in the 'Message' column.\n",
      "The keyword 'anti-Muslim' appears 46 times in the 'Message' column.\n"
     ]
    }
   ],
   "source": [
    "# Print the keyword occurrences\n",
    "print(f\"The keyword '{keyword1}' appears {keyword1_counts.sum()} times in the 'Message' column.\")\n",
    "print(f\"The keyword '{keyword2}' appears {keyword2_counts.sum()} times in the 'Message' column.\")"
   ]
  },
  {
   "cell_type": "code",
   "execution_count": 40,
   "id": "bd6c2467-d2c5-4145-88f5-de0d191994ea",
   "metadata": {},
   "outputs": [
    {
     "data": {
      "text/plain": [
       "<Figure size 800x600 with 0 Axes>"
      ]
     },
     "metadata": {},
     "output_type": "display_data"
    },
    {
     "data": {
      "image/png": "[encoded data removed]",
      "text/plain": [
       "<Figure size 640x480 with 1 Axes>"
      ]
     },
     "metadata": {},
     "output_type": "display_data"
    }
   ],
   "source": [
    "# Create a DataFrame from the counts\n",
    "data = {\n",
    "    'Keyword': ['keyword1', 'keyword2'],\n",
    "    'Counts': [keyword1_counts.sum(), keyword2_counts.sum()]\n",
    "}\n",
    "df = pd.DataFrame(data)\n",
    "\n",
    "# Plot the pie chart\n",
    "plt.figure(figsize=(8, 6))\n",
    "df.plot(kind='pie', y='Counts', autopct='%1.1f%%', startangle=90, labels=df['Keyword'], title='Keyword Occurrences')\n",
    "plt.axis('equal')\n",
    "plt.show()"
   ]
  },
  {
   "cell_type": "code",
   "execution_count": 41,
   "id": "5f41709b-ad6d-4e60-84f9-71b5030c8bbc",
   "metadata": {},
   "outputs": [
    {
     "name": "stdout",
     "output_type": "stream",
     "text": [
      "The breakdown by page for 'anti-Hindu' is:\n",
      "Page Name\n",
      "OpIndia.com                                                     239\n",
      "Organiser Weekly                                                 27\n",
      "Documenting Crimes Against Hindus                                 7\n",
      "India Speaks Daily                                                6\n",
      "Hindutva Abhiyan                                                  5\n",
      "Hindus of India                                                   4\n",
      "Hinduism Now Global Press                                         4\n",
      "Resurging Hinduism                                                3\n",
      "tfipost.com                                                       2\n",
      "Delta Edge Artificial Intelligence                                2\n",
      "TheWire.in                                                        2\n",
      "Indian Right Wing Community                                       2\n",
      "MyNation                                                          2\n",
      "ऑपइंडिया                                                          2\n",
      "The Tatva                                                         1\n",
      "Vishwa Samvad Kendra Bharat                                       1\n",
      "Proud Indian                                                      1\n",
      "Hindus of Himachal                                                1\n",
      "Communist Party of India -Marxist Leninist- Liberation CPIML      1\n",
      "Ungli Baba                                                        1\n",
      "Brahmanical Patriarchy                                            1\n",
      "Eternal Hindu - शाश्वत हिंदू                                      1\n",
      "ArtKrafter                                                        1\n",
      "The Gorkha Press                                                  1\n",
      "I Trust Narendra                                                  1\n",
      "Bar & Bench                                                       1\n",
      "Kashmiri Pundit                                                   1\n",
      "Awakening                                                         1\n",
      "A Sanatani                                                        1\n",
      "Pure Pahadi                                                       1\n",
      "Republic                                                          1\n",
      "Shaykh Zia Ul Gaffar Page                                         1\n",
      "Youth Awakening Mission                                           1\n",
      "The Hindu Renaissance                                             1\n",
      "PMO India : Report Card                                           1\n",
      "The Quint                                                         1\n",
      "Kangana Ranaut                                                    1\n",
      "Vishva Hindu Parishad -VHP                                        1\n",
      "Francois Gautier                                                  1\n",
      "Justice For Hindus                                                1\n",
      "The Nationalist                                                   1\n",
      "India With MODI                                                   1\n",
      "Citizen Of INDIA                                                  1\n",
      "Ajeet Bharti                                                      1\n",
      "Ram Prasad Paul                                                   1\n",
      "Name: count, dtype: int64\n",
      "The breakdown by page for 'anti-Muslim' is:\n",
      "Page Name\n",
      "Newslaundry                                                     3\n",
      "MuslimMirror.com                                                3\n",
      "The Tatva                                                       3\n",
      "Beef Janata Party                                               3\n",
      "Dr. Arindam Chaudhuri                                           2\n",
      "The Milli Gazette                                               2\n",
      "Outlookindia                                                    2\n",
      "HYDERABAD DECCAN                                                2\n",
      "Congress Sandesh                                                2\n",
      "OpIndia.com                                                     2\n",
      "Communist Party of India -Marxist Leninist- Liberation CPIML    1\n",
      "The Companion                                                   1\n",
      "Tp Asharafali                                                   1\n",
      "TIMES NOW                                                       1\n",
      "AISA - All India Students' Association                          1\n",
      "BeyondHeadlines                                                 1\n",
      "The-Pulse                                                       1\n",
      "University Community                                            1\n",
      "GoNews India                                                    1\n",
      "Communist Party of India (Marxist)                              1\n",
      "Thejas News                                                     1\n",
      "The Logical Indian Citizen                                      1\n",
      "India UnPlugged                                                 1\n",
      "Zafarul-Islam Khan                                              1\n",
      "India Speaks Daily                                              1\n",
      "Teesta Setalvad                                                 1\n",
      "Jamaat-e-Islami Hind                                            1\n",
      "Islam - The Way of Life                                         1\n",
      "Hinduism Now Global Press                                       1\n",
      "Thol.Thirumavalavan                                             1\n",
      "The Times of India                                              1\n",
      "Maktoob                                                         1\n",
      "Name: count, dtype: int64\n"
     ]
    }
   ],
   "source": [
    "# Number keyword occurrences by specific pages\n",
    "print(f\"The breakdown by page for '{keyword1}' is:\\n{keyword1_counts}\")\n",
    "print(f\"The breakdown by page for '{keyword2}' is:\\n{keyword2_counts}\")"
   ]
  },
  {
   "cell_type": "code",
   "execution_count": null,
   "id": "721107f0-1b17-47f9-bdca-0fe78a66ba37",
   "metadata": {},
   "outputs": [],
   "source": []
  }
 ],
 "metadata": {
  "kernelspec": {
   "display_name": "Python 3 (ipykernel)",
   "language": "python",
   "name": "python3"
  },
  "language_info": {
   "codemirror_mode": {
    "name": "ipython",
    "version": 3
   },
   "file_extension": ".py",
   "mimetype": "text/x-python",
   "name": "python",
   "nbconvert_exporter": "python",
   "pygments_lexer": "ipython3",
   "version": "3.11.8"
  },
  "widgets": {
   "application/vnd.jupyter.widget-state+json": {
    "state": {},
    "version_major": 2,
    "version_minor": 0
   }
  }
 },
 "nbformat": 4,
 "nbformat_minor": 5
}
