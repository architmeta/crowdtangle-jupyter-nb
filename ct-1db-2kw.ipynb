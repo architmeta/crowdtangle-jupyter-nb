{
 "cells": [
  {
   "cell_type": "code",
   "execution_count": 13,
   "id": "72a7dea1-698c-48fc-8081-834ed3c3e2a3",
   "metadata": {},
   "outputs": [],
   "source": [
    "import pandas as pd\n",
    "from collections import Counter\n",
    "import matplotlib.pyplot as plt"
   ]
  },
  {
   "cell_type": "code",
   "execution_count": 14,
   "id": "ca21dcd9-2806-4429-b222-2bc09e1fcde7",
   "metadata": {},
   "outputs": [
    {
     "name": "stdout",
     "output_type": "stream",
     "text": [
      "<class 'pandas.core.frame.DataFrame'>\n",
      "RangeIndex: 10000 entries, 0 to 9999\n",
      "Data columns (total 41 columns):\n",
      " #   Column                                                                                                            Non-Null Count  Dtype  \n",
      "---  ------                                                                                                            --------------  -----  \n",
      " 0   Page Name                                                                                                         10000 non-null  object \n",
      " 1   User Name                                                                                                         9912 non-null   object \n",
      " 2   Facebook Id                                                                                                       10000 non-null  int64  \n",
      " 3   Page Category                                                                                                     10000 non-null  object \n",
      " 4   Page Admin Top Country                                                                                            9945 non-null   object \n",
      " 5   Page Description                                                                                                  9998 non-null   object \n",
      " 6   Page Created                                                                                                      10000 non-null  object \n",
      " 7   Likes at Posting                                                                                                  9325 non-null   float64\n",
      " 8   Followers at Posting                                                                                              9325 non-null   float64\n",
      " 9   Post Created                                                                                                      10000 non-null  object \n",
      " 10  Post Created Date                                                                                                 10000 non-null  object \n",
      " 11  Post Created Time                                                                                                 10000 non-null  object \n",
      " 12  Type                                                                                                              10000 non-null  object \n",
      " 13  Total Interactions                                                                                                10000 non-null  object \n",
      " 14  Likes                                                                                                             10000 non-null  int64  \n",
      " 15  Comments                                                                                                          10000 non-null  int64  \n",
      " 16  Shares                                                                                                            10000 non-null  int64  \n",
      " 17  Love                                                                                                              10000 non-null  int64  \n",
      " 18  Wow                                                                                                               10000 non-null  int64  \n",
      " 19  Haha                                                                                                              10000 non-null  int64  \n",
      " 20  Sad                                                                                                               10000 non-null  int64  \n",
      " 21  Angry                                                                                                             10000 non-null  int64  \n",
      " 22  Care                                                                                                              10000 non-null  int64  \n",
      " 23  Video Share Status                                                                                                2003 non-null   object \n",
      " 24  Is Video Owner?                                                                                                   10000 non-null  object \n",
      " 25  Post Views                                                                                                        10000 non-null  int64  \n",
      " 26  Total Views                                                                                                       10000 non-null  int64  \n",
      " 27  Total Views For All Crossposts                                                                                    10000 non-null  int64  \n",
      " 28  Video Length                                                                                                      2003 non-null   object \n",
      " 29  URL                                                                                                               10000 non-null  object \n",
      " 30  Message                                                                                                           9506 non-null   object \n",
      " 31  Link                                                                                                              9784 non-null   object \n",
      " 32  Final Link                                                                                                        853 non-null    object \n",
      " 33  Image Text                                                                                                        14 non-null     object \n",
      " 34  Link Text                                                                                                         8689 non-null   object \n",
      " 35  Description                                                                                                       6651 non-null   object \n",
      " 36  Sponsor Id                                                                                                        0 non-null      float64\n",
      " 37  Sponsor Name                                                                                                      0 non-null      float64\n",
      " 38  Sponsor Category                                                                                                  0 non-null      float64\n",
      " 39  Total Interactions (weighted  —  Likes 1x Shares 1x Comments 1x Love 1x Wow 1x Haha 1x Sad 1x Angry 1x Care 1x )  10000 non-null  object \n",
      " 40  Overperforming Score                                                                                              10000 non-null  object \n",
      "dtypes: float64(5), int64(13), object(23)\n",
      "memory usage: 3.1+ MB\n"
     ]
    }
   ],
   "source": [
    "# The CVS files were downloaded from CrowdTangle. The file lists Facebook posts in last 12 months (from July 2024).\n",
    "# Page Categories include: Media News Company, Newsagent Newsstand, News Personality, News Site, Newspaper, \n",
    "# Political Candidate, Political Party, Politician, Political Organisation \n",
    "# CSV name cleaned-XYZ are suitable for this database. This CSV keeps only the coloumns needed for research. \n",
    "\n",
    "df = pd.read_csv(\"delhi-riots-large.csv\")\n",
    "df.info()"
   ]
  },
  {
   "cell_type": "code",
   "execution_count": 15,
   "id": "75c9a951-9d57-4927-b5db-3fc4a3c69cac",
   "metadata": {},
   "outputs": [],
   "source": [
    "# Convert object-type columns to string, except integer columns\n",
    "for col in df.columns:\n",
    "    if df[col].dtype == 'object':\n",
    "        df[col] = df[col].astype(str)"
   ]
  },
  {
   "cell_type": "code",
   "execution_count": 22,
   "id": "5d8498a0-e203-452f-9d75-970a27f219a7",
   "metadata": {},
   "outputs": [
    {
     "name": "stdout",
     "output_type": "stream",
     "text": [
      "The keyword 'India' appears 1525 times in the 'Message' column.\n",
      "The keyword 'Pakistan' appears 108 times in the 'Message' column.\n",
      "The breakdown by page for 'India' is:\n",
      "Page Name\n",
      "OpIndia.com                                         143\n",
      "GoNews India                                         39\n",
      "Beef Janata Party                                    34\n",
      "India Today                                          33\n",
      "TheWire.in                                           29\n",
      "                                                   ... \n",
      "Answering Islam - Jesus Is God                        1\n",
      "Alhaj Sheikh Hammad Miya Bareilly Sharif              1\n",
      "National Gallery of Modern Art, New Delhi, India      1\n",
      "BJP For New INDIA                                     1\n",
      "Right Revolution                                      1\n",
      "Name: count, Length: 512, dtype: int64\n",
      "The breakdown by page for 'Pakistan' is:\n",
      "Page Name\n",
      "OpIndia.com                          6\n",
      "Arya Samaj                           3\n",
      "Defenders of India                   3\n",
      "TheWire.in                           2\n",
      "Francois Gautier                     2\n",
      "                                    ..\n",
      "Swarajya                             1\n",
      "Troll Hypocrites                     1\n",
      "Documenting Crimes Against Hindus    1\n",
      "Beef Janata Party                    1\n",
      "CPI - ML Red Star                    1\n",
      "Name: count, Length: 86, dtype: int64\n",
      "\n",
      "Top 5 most shared posts that mention either keyword:\n",
      "           Page Name                                                URL  \\\n",
      "16      GoNews India  https://www.facebook.com/289538018146573/posts...   \n",
      "21  Asaduddin Owaisi  https://www.facebook.com/210058522394900/posts...   \n",
      "46    BBC News India  https://www.facebook.com/151955124848859/posts...   \n",
      "33      Dhruv Rathee  https://www.facebook.com/1693077410957182/post...   \n",
      "45      GoNews India  https://www.facebook.com/289538018146573/posts...   \n",
      "\n",
      "    Shares  \n",
      "16   32252  \n",
      "21   15416  \n",
      "46   14386  \n",
      "33   12600  \n",
      "45   12386  \n"
     ]
    }
   ],
   "source": [
    "\n",
    "# Convert object-type columns to string, except integer columns\n",
    "for col in df.columns:\n",
    "    if df[col].dtype == 'object':\n",
    "        df[col] = df[col].astype(str)\n",
    "\n",
    "# Define the keywords to search for\n",
    "keyword1 = \"India\"\n",
    "keyword2 = \"Pakistan\"\n",
    "\n",
    "# Count the occurrences of the keywords in the \"Message\" column\n",
    "keyword1_counts = df[df['Message'].str.contains(keyword1, case=False)]['Page Name'].value_counts()\n",
    "keyword2_counts = df[df['Message'].str.contains(keyword2, case=False)]['Page Name'].value_counts()\n",
    "\n",
    "# Print the keyword occurrences\n",
    "print(f\"The keyword '{keyword1}' appears {keyword1_counts.sum()} times in the 'Message' column.\")\n",
    "print(f\"The keyword '{keyword2}' appears {keyword2_counts.sum()} times in the 'Message' column.\")\n",
    "print(f\"The breakdown by page for '{keyword1}' is:\\n{keyword1_counts}\")\n",
    "print(f\"The breakdown by page for '{keyword2}' is:\\n{keyword2_counts}\")\n",
    "\n",
    "# Get the top 5 most shared posts that mention either keyword\n",
    "top_shared_posts = (\n",
    "    df[df['Message'].str.contains(keyword1, case=False) | df['Message'].str.contains(keyword2, case=False)]\n",
    "    .sort_values(by='Shares', ascending=False)\n",
    "    .head(5)\n",
    "    [['Page Name', 'URL', 'Shares']]\n",
    ")\n",
    "\n",
    "print(\"\\nTop 5 most shared posts that mention either keyword:\")\n",
    "print(top_shared_posts)"
   ]
  },
  {
   "cell_type": "code",
   "execution_count": null,
   "id": "d1424c88-d7cd-48ff-8014-cfaf3eb540ed",
   "metadata": {},
   "outputs": [],
   "source": []
  },
  {
   "cell_type": "code",
   "execution_count": null,
   "id": "4881e801-2ab5-4309-a607-5bcbd988a28d",
   "metadata": {},
   "outputs": [],
   "source": []
  },
  {
   "cell_type": "code",
   "execution_count": null,
   "id": "a135c0c3-137d-4c13-a5eb-f134f0962629",
   "metadata": {},
   "outputs": [],
   "source": []
  },
  {
   "cell_type": "code",
   "execution_count": null,
   "id": "0aa330f2-114b-4fde-b570-3bbb7e8db5d1",
   "metadata": {},
   "outputs": [],
   "source": []
  }
 ],
 "metadata": {
  "kernelspec": {
   "display_name": "Python 3 (ipykernel)",
   "language": "python",
   "name": "python3"
  },
  "language_info": {
   "codemirror_mode": {
    "name": "ipython",
    "version": 3
   },
   "file_extension": ".py",
   "mimetype": "text/x-python",
   "name": "python",
   "nbconvert_exporter": "python",
   "pygments_lexer": "ipython3",
   "version": "3.11.8"
  },
  "widgets": {
   "application/vnd.jupyter.widget-state+json": {
    "state": {},
    "version_major": 2,
    "version_minor": 0
   }
  }
 },
 "nbformat": 4,
 "nbformat_minor": 5
}
